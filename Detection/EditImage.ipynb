{
 "cells": [
  {
   "cell_type": "code",
   "execution_count": 2,
   "id": "a4d0ee85",
   "metadata": {},
   "outputs": [],
   "source": [
    "from PIL import Image, ImageDraw, ImageFont"
   ]
  },
  {
   "cell_type": "code",
   "execution_count": 3,
   "id": "2a220c26",
   "metadata": {},
   "outputs": [],
   "source": [
    "image_path = \"4.PNG\" \n",
    "image = Image.open(image_path)"
   ]
  },
  {
   "cell_type": "code",
   "execution_count": 12,
   "id": "f79fe419",
   "metadata": {},
   "outputs": [],
   "source": [
    "draw = ImageDraw.Draw(image)\n",
    "\n",
    "text = \"msa2 elkheer\"\n",
    "x, y = 200, 1000 \n",
    "\n",
    "font = ImageFont.truetype(\"arial.ttf\", size=100) \n",
    "draw.text((x, y), text, font=font, fill=(0, 0, 0))\n",
    "image.save(\"result.PNG\")"
   ]
  },
  {
   "cell_type": "code",
   "execution_count": null,
   "id": "09d6f1a3",
   "metadata": {},
   "outputs": [],
   "source": []
  }
 ],
 "metadata": {
  "kernelspec": {
   "display_name": "Python 3 (ipykernel)",
   "language": "python",
   "name": "python3"
  },
  "language_info": {
   "codemirror_mode": {
    "name": "ipython",
    "version": 3
   },
   "file_extension": ".py",
   "mimetype": "text/x-python",
   "name": "python",
   "nbconvert_exporter": "python",
   "pygments_lexer": "ipython3",
   "version": "3.11.5"
  }
 },
 "nbformat": 4,
 "nbformat_minor": 5
}
